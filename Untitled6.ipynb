{
  "nbformat": 4,
  "nbformat_minor": 0,
  "metadata": {
    "colab": {
      "provenance": [],
      "authorship_tag": "ABX9TyONkEL5PuLQpA4XRWq8zI5R",
      "include_colab_link": true
    },
    "kernelspec": {
      "name": "python3",
      "display_name": "Python 3"
    },
    "language_info": {
      "name": "python"
    }
  },
  "cells": [
    {
      "cell_type": "markdown",
      "metadata": {
        "id": "view-in-github",
        "colab_type": "text"
      },
      "source": [
        "<a href=\"https://colab.research.google.com/github/lukaszplust/Lovely_Python/blob/main/Untitled6.ipynb\" target=\"_parent\"><img src=\"https://colab.research.google.com/assets/colab-badge.svg\" alt=\"Open In Colab\"/></a>"
      ]
    },
    {
      "cell_type": "markdown",
      "source": [
        "Ex 1"
      ],
      "metadata": {
        "id": "36Bzzx7xLZCZ"
      }
    },
    {
      "cell_type": "code",
      "execution_count": 15,
      "metadata": {
        "colab": {
          "base_uri": "https://localhost:8080/"
        },
        "id": "JwbRPHEKLYUd",
        "outputId": "5c6a66d4-55bb-49dc-b77d-0b43c626fac2"
      },
      "outputs": [
        {
          "output_type": "execute_result",
          "data": {
            "text/plain": [
              "1580"
            ]
          },
          "metadata": {},
          "execution_count": 15
        }
      ],
      "source": [
        "def calculate():\n",
        "  suma = []\n",
        "  for x in range(100):\n",
        "    if x % 5 == 0 or x % 7 ==0:\n",
        "      suma.append(x)\n",
        "  wynik = sum(suma)\n",
        "  return wynik    \n",
        "calculate()"
      ]
    },
    {
      "cell_type": "markdown",
      "source": [
        "Ex 2"
      ],
      "metadata": {
        "id": "TLGTHQ5YPXUV"
      }
    },
    {
      "cell_type": "code",
      "source": [
        "def calculate():\n",
        "    n1 = 0\n",
        "    n2 = 1\n",
        "    count = 0\n",
        "    while n1 < 1000000:\n",
        "      if n1 % 2 == 0:\n",
        "        count = count + n1\n",
        "      n1, n2 = n2, n1 + n2  \n",
        "    return count  \n",
        "calculate()"
      ],
      "metadata": {
        "colab": {
          "base_uri": "https://localhost:8080/"
        },
        "id": "wfUb2yvUMjZd",
        "outputId": "edfb904a-62da-4945-b4ab-36d9d276eb0a"
      },
      "execution_count": 35,
      "outputs": [
        {
          "output_type": "execute_result",
          "data": {
            "text/plain": [
              "1089154"
            ]
          },
          "metadata": {},
          "execution_count": 35
        }
      ]
    },
    {
      "cell_type": "markdown",
      "source": [
        "Ex 5"
      ],
      "metadata": {
        "id": "EyX7sZPBGsGc"
      }
    },
    {
      "cell_type": "code",
      "source": [
        "def calculate():\n",
        "  wynik = []\n",
        "  for i in range(100,1000):\n",
        "    if str(i) == str(i)[::-1]:\n",
        "      wynik.append(i)\n",
        "  return len(wynik)\n",
        "calculate()      "
      ],
      "metadata": {
        "colab": {
          "base_uri": "https://localhost:8080/"
        },
        "id": "l9A5KhgHGgCR",
        "outputId": "0ef88cb3-c8a0-4077-990c-23b09bee8a1f"
      },
      "execution_count": 3,
      "outputs": [
        {
          "output_type": "execute_result",
          "data": {
            "text/plain": [
              "90"
            ]
          },
          "metadata": {},
          "execution_count": 3
        }
      ]
    },
    {
      "cell_type": "markdown",
      "source": [
        "Ex 6"
      ],
      "metadata": {
        "id": "EY80Rg38HU6l"
      }
    },
    {
      "cell_type": "code",
      "source": [
        "def calculate():\n",
        "    wynik = []\n",
        "    for i in range(10, 100):\n",
        "        for j in range(10, 100):\n",
        "            if str(i * j) == str(i * j)[::-1]:\n",
        "                wynik.append(i * j)\n",
        "    return max(wynik)\n",
        "\n",
        "\n",
        "print(calculate())"
      ],
      "metadata": {
        "colab": {
          "base_uri": "https://localhost:8080/"
        },
        "id": "F2s4xrOyHUWY",
        "outputId": "ac88bab9-6e29-4d94-d2bd-11769a8ea52a"
      },
      "execution_count": 4,
      "outputs": [
        {
          "output_type": "stream",
          "name": "stdout",
          "text": [
            "9009\n"
          ]
        }
      ]
    },
    {
      "cell_type": "markdown",
      "source": [
        "Ex 7"
      ],
      "metadata": {
        "id": "qzNvxd_xHlw9"
      }
    },
    {
      "cell_type": "code",
      "source": [
        "def greatest_common_divisor(a, b):\n",
        "    if b > 0:\n",
        "        return greatest_common_divisor(b, a%b)\n",
        "    else:\n",
        "        return a\n",
        "print(greatest_common_divisor(32,48))"
      ],
      "metadata": {
        "colab": {
          "base_uri": "https://localhost:8080/"
        },
        "id": "1P1GKnB7Qwbj",
        "outputId": "24d42780-a6d1-43a8-9a44-78d954b64f94"
      },
      "execution_count": 5,
      "outputs": [
        {
          "output_type": "stream",
          "name": "stdout",
          "text": [
            "16\n"
          ]
        }
      ]
    },
    {
      "cell_type": "markdown",
      "source": [
        "Ćw 8"
      ],
      "metadata": {
        "id": "ZIcSECY3It0Y"
      }
    },
    {
      "cell_type": "code",
      "source": [
        "def is_prime(liczba):\n",
        "  if liczba < 2:\n",
        "    return False\n",
        "  elif liczba == 2:\n",
        "    return True\n",
        "  for i in range(2,liczba):\n",
        "    if liczba % i ==0:\n",
        "      return False\n",
        "  return True\n",
        "is_prime(41)           "
      ],
      "metadata": {
        "colab": {
          "base_uri": "https://localhost:8080/"
        },
        "id": "zIcLySm1HnXO",
        "outputId": "9b185a76-f719-462a-a386-936f426c0ff4"
      },
      "execution_count": 15,
      "outputs": [
        {
          "output_type": "execute_result",
          "data": {
            "text/plain": [
              "True"
            ]
          },
          "metadata": {},
          "execution_count": 15
        }
      ]
    },
    {
      "cell_type": "markdown",
      "source": [
        "Ćw 9 ---> powtórzyć i przeanalizować"
      ],
      "metadata": {
        "id": "sgWGgv1WP6DX"
      }
    },
    {
      "cell_type": "code",
      "source": [
        "def is_prime(n):\n",
        "    if n < 2:\n",
        "        return False\n",
        "    if n % 2 == 0:\n",
        "        return n == 2\n",
        "    i = 3\n",
        "    while i * i <= n:\n",
        "        if n % i == 0:\n",
        "            return False\n",
        "        i += 2\n",
        "    return True\n",
        "\n",
        "def calculate():\n",
        "  counter = 0\n",
        "  number = 2\n",
        "  while True:\n",
        "      if is_prime(number):\n",
        "        counter = counter +1\n",
        "        if counter == 100:\n",
        "              return number\n",
        "      number = number + 1\n",
        "print(calculate())   "
      ],
      "metadata": {
        "colab": {
          "base_uri": "https://localhost:8080/"
        },
        "id": "f7jCl9zEKgbf",
        "outputId": "78513e70-67e1-4e43-a123-74ee959ab1f8"
      },
      "execution_count": 16,
      "outputs": [
        {
          "output_type": "stream",
          "name": "stdout",
          "text": [
            "541\n"
          ]
        }
      ]
    },
    {
      "cell_type": "markdown",
      "source": [
        "Ex 10"
      ],
      "metadata": {
        "id": "J5GUPZsNQncz"
      }
    },
    {
      "cell_type": "code",
      "source": [
        "def is_palindrome(liczba):\n",
        "  if str(liczba) == str(liczba)[::-1]:\n",
        "    return True\n",
        "  bin_liczba = bin(liczba)[2:]\n",
        "  return bin_liczba == bin_liczba[::-1]\n",
        "is_palindrome(99)"
      ],
      "metadata": {
        "colab": {
          "base_uri": "https://localhost:8080/"
        },
        "id": "TvExEcrNQUc9",
        "outputId": "075cd350-7352-470f-af3e-d690544b5c9f"
      },
      "execution_count": 17,
      "outputs": [
        {
          "output_type": "execute_result",
          "data": {
            "text/plain": [
              "True"
            ]
          },
          "metadata": {},
          "execution_count": 17
        }
      ]
    },
    {
      "cell_type": "code",
      "source": [],
      "metadata": {
        "id": "qt5bPvtTRHmD"
      },
      "execution_count": null,
      "outputs": []
    }
  ]
}